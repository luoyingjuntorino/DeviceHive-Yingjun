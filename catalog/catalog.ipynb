{
 "cells": [
  {
   "cell_type": "code",
   "execution_count": 1,
   "metadata": {},
   "outputs": [],
   "source": [
    "import json\n",
    "useCase_catalog = \"useCase_catalog.json\"\n",
    "try:\n",
    "    useCase_cat = json.load(open(useCase_catalog))\n",
    "except:\n",
    "    print(\"useCase Catalog do not existing\")"
   ]
  },
  {
   "cell_type": "code",
   "execution_count": 41,
   "metadata": {},
   "outputs": [
    {
     "data": {
      "text/plain": [
       "{'powerskin': {'useCase name': 'powerskin',\n",
       "  'valid period': {'start': '01-01-2022', 'end': '01-12-2022'},\n",
       "  'linked sensors': ['TT01', 'TT02'],\n",
       "  'linked users': ['dhadmin', 'dhuser01', 'dhuser02'],\n",
       "  'status': 'stopped'},\n",
       " 'TC1': {'useCase name': 'TC1',\n",
       "  'valid period': {'start': '01-01-2023', 'end': '01-12-2023'},\n",
       "  'linked sensors': ['DHT22', 'DHT11'],\n",
       "  'linked users': ['dhadmin', 'dhuser01'],\n",
       "  'status': 'running'}}"
      ]
     },
     "execution_count": 41,
     "metadata": {},
     "output_type": "execute_result"
    }
   ],
   "source": [
    "useCase_cat[\"useCases\"]"
   ]
  },
  {
   "cell_type": "code",
   "execution_count": 66,
   "metadata": {},
   "outputs": [],
   "source": [
    "def open_json(file):\n",
    "    try:\n",
    "        json_file = json.load(open(file))\n",
    "        return json_file\n",
    "    except:\n",
    "        print(f\"{file} do not existing\")\n",
    "        \n",
    "def save_json(file, data):\n",
    "    try:\n",
    "        with open(file, \"w\") as f:\n",
    "            json.dump(data, f, indent=4)\n",
    "            return True\n",
    "    except:\n",
    "        print(f\"save {file} failed\")\n",
    "        return False\n",
    "\n",
    "def get_useCase(useCase, file):\n",
    "    useCase_catalog = open_json(file)\n",
    "    if useCase in useCase_catalog[\"useCases\"]:\n",
    "        print(useCase_catalog[\"useCases\"][useCase])\n",
    "    else:\n",
    "        print(f\"{useCase} do not existing.\")\n",
    "\n",
    "def create_useCase(useCase, useCase_catalog):\n",
    "    try:\n",
    "        if useCase[\"useCase name\"] not in useCase_catalog[\"useCases\"]:\n",
    "            useCase_catalog[\"useCases\"][useCase[\"useCase name\"]] = {\n",
    "            \"useCase name\":useCase[\"useCase name\"],\n",
    "            \"valid period\":useCase[\"valid period\"],\n",
    "            \"linked sensors\":useCase[\"linked sensors\"],\n",
    "            \"linked users\":useCase[\"linked users\"],\n",
    "            \"status\":useCase[\"status\"]}\n",
    "            with open(\"useCase_catalog.json\", \"w\") as json_file:\n",
    "                json.dump(useCase_catalog, json_file, indent=4)\n",
    "                return {\"msg\":\"use case created\"}\n",
    "        else:\n",
    "            return {\"msg\":\"use case existed\"}\n",
    "    except:\n",
    "        return {\"msg\":\"use case create error\"}\n",
    "\n",
    "def delete_useCase(useCase, file):\n",
    "    useCase_catalog = open_json(file)\n",
    "    try:\n",
    "        if useCase[\"useCase name\"] in useCase_catalog[\"useCases\"]:\n",
    "            del useCase_catalog[\"useCases\"][useCase[\"useCase name\"]]\n",
    "            save_json(file, useCase_catalog)\n",
    "            # with open(\"useCase_catalog.json\", \"w\") as json_file:\n",
    "            #     json.dump(useCase_catalog, json_file, indent=4)\n",
    "            return {\"msg\":\"use case deleted\"}\n",
    "        else:\n",
    "            return {\"msg\":\"use case not existed\"}\n",
    "    except:\n",
    "        return {\"msg\":\"use case delete error\"}\n",
    "            "
   ]
  },
  {
   "cell_type": "code",
   "execution_count": 68,
   "metadata": {},
   "outputs": [
    {
     "data": {
      "text/plain": [
       "{'msg': 'use case not existed'}"
      ]
     },
     "execution_count": 68,
     "metadata": {},
     "output_type": "execute_result"
    }
   ],
   "source": [
    "useCase = {\"useCase name\":\"ios\"}\n",
    "delete_useCase(useCase, \"useCase_catalog.json\")"
   ]
  },
  {
   "cell_type": "code",
   "execution_count": 69,
   "metadata": {},
   "outputs": [
    {
     "name": "stdout",
     "output_type": "stream",
     "text": [
      "ios do not existing.\n"
     ]
    }
   ],
   "source": [
    "get_useCase(\"ios\", \"useCase_catalog.json\")"
   ]
  },
  {
   "cell_type": "code",
   "execution_count": 72,
   "metadata": {},
   "outputs": [
    {
     "data": {
      "text/plain": [
       "['powerskin', 'TC1']"
      ]
     },
     "execution_count": 72,
     "metadata": {},
     "output_type": "execute_result"
    }
   ],
   "source": [
    "list(useCase_cat[\"useCases\"].keys())"
   ]
  },
  {
   "cell_type": "code",
   "execution_count": 43,
   "metadata": {},
   "outputs": [],
   "source": [
    "useCase = {'useCase name': 'ios',\n",
    "  'valid period': {'start': '01-01-2024', 'end': '01-12-2024'},\n",
    "  'linked sensors': ['T1', 'T2'],\n",
    "  'linked users': ['dhadmin'],\n",
    "  'status': 'stopped'}"
   ]
  },
  {
   "cell_type": "code",
   "execution_count": 44,
   "metadata": {},
   "outputs": [
    {
     "data": {
      "text/plain": [
       "{'msg': 'use case created'}"
      ]
     },
     "execution_count": 44,
     "metadata": {},
     "output_type": "execute_result"
    }
   ],
   "source": [
    "create_useCase(useCase, useCase_cat)"
   ]
  },
  {
   "cell_type": "code",
   "execution_count": 45,
   "metadata": {},
   "outputs": [
    {
     "data": {
      "text/plain": [
       "{'info': 'catalog of useCases',\n",
       " 'useCases': {'powerskin': {'useCase name': 'powerskin',\n",
       "   'valid period': {'start': '01-01-2022', 'end': '01-12-2022'},\n",
       "   'linked sensors': ['TT01', 'TT02'],\n",
       "   'linked users': ['dhadmin', 'dhuser01', 'dhuser02'],\n",
       "   'status': 'stopped'},\n",
       "  'TC1': {'useCase name': 'TC1',\n",
       "   'valid period': {'start': '01-01-2023', 'end': '01-12-2023'},\n",
       "   'linked sensors': ['DHT22', 'DHT11'],\n",
       "   'linked users': ['dhadmin', 'dhuser01'],\n",
       "   'status': 'running'},\n",
       "  'ios': {'useCase name': 'ios',\n",
       "   'valid period': {'start': '01-01-2024', 'end': '01-12-2024'},\n",
       "   'linked sensors': ['T1', 'T2'],\n",
       "   'linked users': ['dhadmin'],\n",
       "   'status': 'stopped'}}}"
      ]
     },
     "execution_count": 45,
     "metadata": {},
     "output_type": "execute_result"
    }
   ],
   "source": [
    "useCase_cat"
   ]
  },
  {
   "cell_type": "code",
   "execution_count": 60,
   "metadata": {},
   "outputs": [
    {
     "name": "stdout",
     "output_type": "stream",
     "text": [
      "{'info': 'catalog of useCases', 'useCases': {'powerskin': {'useCase name': 'powerskin', 'valid period': {'start': '01-01-2022', 'end': '01-12-2022'}, 'linked sensors': ['TT01', 'TT02'], 'linked users': ['dhadmin', 'dhuser01', 'dhuser02'], 'status': 'stopped'}, 'TC1': {'useCase name': 'TC1', 'valid period': {'start': '01-01-2023', 'end': '01-12-2023'}, 'linked sensors': ['DHT22', 'DHT11'], 'linked users': ['dhadmin', 'dhuser01'], 'status': 'running'}, 'ios': {'useCase name': 'ios', 'valid period': {'start': '01-01-2024', 'end': '01-12-2024'}, 'linked sensors': ['T1', 'T2'], 'linked users': ['dhadmin'], 'status': 'stopped'}}} do not existing\n"
     ]
    },
    {
     "data": {
      "text/plain": [
       "{'msg': 'use case delete error'}"
      ]
     },
     "execution_count": 60,
     "metadata": {},
     "output_type": "execute_result"
    }
   ],
   "source": [
    "delete_useCase(useCase, useCase_cat)"
   ]
  },
  {
   "cell_type": "code",
   "execution_count": 48,
   "metadata": {},
   "outputs": [
    {
     "data": {
      "text/plain": [
       "{'info': 'catalog of useCases',\n",
       " 'useCases': {'powerskin': {'useCase name': 'powerskin',\n",
       "   'valid period': {'start': '01-01-2022', 'end': '01-12-2022'},\n",
       "   'linked sensors': ['TT01', 'TT02'],\n",
       "   'linked users': ['dhadmin', 'dhuser01', 'dhuser02'],\n",
       "   'status': 'stopped'},\n",
       "  'TC1': {'useCase name': 'TC1',\n",
       "   'valid period': {'start': '01-01-2023', 'end': '01-12-2023'},\n",
       "   'linked sensors': ['DHT22', 'DHT11'],\n",
       "   'linked users': ['dhadmin', 'dhuser01'],\n",
       "   'status': 'running'}}}"
      ]
     },
     "execution_count": 48,
     "metadata": {},
     "output_type": "execute_result"
    }
   ],
   "source": [
    "useCase_cat"
   ]
  },
  {
   "cell_type": "code",
   "execution_count": 2,
   "metadata": {},
   "outputs": [
    {
     "name": "stdout",
     "output_type": "stream",
     "text": [
      "The user 'dhadmin' is linked to the following useCases: powerskin, TC1\n"
     ]
    }
   ],
   "source": [
    "# 要查找的 linked user\n",
    "target_user = \"dhadmin\"\n",
    "\n",
    "# 用于存储匹配的 useCases 的列表\n",
    "matching_use_cases = []\n",
    "\n",
    "# 遍历 useCases 并查找匹配的用户\n",
    "for use_case, details in useCase_cat[\"useCases\"].items():\n",
    "    if target_user in details[\"linked users\"]:\n",
    "        matching_use_cases.append(use_case)\n",
    "\n",
    "# 输出匹配的 useCases\n",
    "if matching_use_cases:\n",
    "    print(f\"The user '{target_user}' is linked to the following useCases: {', '.join(matching_use_cases)}\")\n",
    "else:\n",
    "    print(f\"The user '{target_user}' is not linked to any useCases.\")"
   ]
  },
  {
   "cell_type": "code",
   "execution_count": 5,
   "metadata": {},
   "outputs": [
    {
     "name": "stdout",
     "output_type": "stream",
     "text": [
      "The sensors linked to user 'dhuser01' are: TT01, DHT22, DHT11, TT02\n"
     ]
    }
   ],
   "source": [
    "# 要查找的 linked user\n",
    "target_user = \"dhuser01\"\n",
    "\n",
    "# 用于存储匹配的 linked sensors 的列表\n",
    "matching_sensors = []\n",
    "\n",
    "# 遍历 useCases 并查找匹配的用户\n",
    "for use_case, details in useCase_cat[\"useCases\"].items():\n",
    "    if target_user in details[\"linked users\"]:\n",
    "        matching_sensors.extend(details[\"linked sensors\"])\n",
    "\n",
    "# 去除重复的传感器\n",
    "matching_sensors = list(set(matching_sensors))\n",
    "\n",
    "# 输出匹配的 linked sensors\n",
    "if matching_sensors:\n",
    "    print(f\"The sensors linked to user '{target_user}' are: {', '.join(matching_sensors)}\")\n",
    "else:\n",
    "    print(f\"No linked sensors found for user '{target_user}'.\")"
   ]
  },
  {
   "cell_type": "code",
   "execution_count": null,
   "metadata": {},
   "outputs": [],
   "source": []
  }
 ],
 "metadata": {
  "kernelspec": {
   "display_name": "Python 3",
   "language": "python",
   "name": "python3"
  },
  "language_info": {
   "codemirror_mode": {
    "name": "ipython",
    "version": 3
   },
   "file_extension": ".py",
   "mimetype": "text/x-python",
   "name": "python",
   "nbconvert_exporter": "python",
   "pygments_lexer": "ipython3",
   "version": "3.10.11"
  }
 },
 "nbformat": 4,
 "nbformat_minor": 2
}
