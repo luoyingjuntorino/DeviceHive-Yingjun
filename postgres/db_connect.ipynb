{
 "cells": [
  {
   "cell_type": "code",
   "execution_count": 9,
   "metadata": {},
   "outputs": [
    {
     "ename": "OperationalError",
     "evalue": "connection to server at \"0.0.0.0\", port 5432 failed: Cannot assign requested address (0x00002741/10049)\n\tIs the server running on that host and accepting TCP/IP connections?\n",
     "output_type": "error",
     "traceback": [
      "\u001b[1;31m---------------------------------------------------------------------------\u001b[0m",
      "\u001b[1;31mOperationalError\u001b[0m                          Traceback (most recent call last)",
      "\u001b[1;32mc:\\Users\\luoyi\\Desktop\\wtp\\DeviceHive-Yingjun\\DeviceHive-Yingjun\\postgres\\db_connect.ipynb Cell 1\u001b[0m line \u001b[0;36m3\n\u001b[0;32m      <a href='vscode-notebook-cell:/c%3A/Users/luoyi/Desktop/wtp/DeviceHive-Yingjun/DeviceHive-Yingjun/postgres/db_connect.ipynb#W0sZmlsZQ%3D%3D?line=0'>1</a>\u001b[0m \u001b[39mimport\u001b[39;00m \u001b[39mpsycopg2\u001b[39;00m\n\u001b[1;32m----> <a href='vscode-notebook-cell:/c%3A/Users/luoyi/Desktop/wtp/DeviceHive-Yingjun/DeviceHive-Yingjun/postgres/db_connect.ipynb#W0sZmlsZQ%3D%3D?line=2'>3</a>\u001b[0m conn \u001b[39m=\u001b[39m psycopg2\u001b[39m.\u001b[39;49mconnect(database \u001b[39m=\u001b[39;49m \u001b[39m\"\u001b[39;49m\u001b[39mdatacamp_courses\u001b[39;49m\u001b[39m\"\u001b[39;49m, \n\u001b[0;32m      <a href='vscode-notebook-cell:/c%3A/Users/luoyi/Desktop/wtp/DeviceHive-Yingjun/DeviceHive-Yingjun/postgres/db_connect.ipynb#W0sZmlsZQ%3D%3D?line=3'>4</a>\u001b[0m                         user \u001b[39m=\u001b[39;49m \u001b[39m\"\u001b[39;49m\u001b[39mdatacamp\u001b[39;49m\u001b[39m\"\u001b[39;49m, \n\u001b[0;32m      <a href='vscode-notebook-cell:/c%3A/Users/luoyi/Desktop/wtp/DeviceHive-Yingjun/DeviceHive-Yingjun/postgres/db_connect.ipynb#W0sZmlsZQ%3D%3D?line=4'>5</a>\u001b[0m                         host\u001b[39m=\u001b[39;49m \u001b[39m'\u001b[39;49m\u001b[39m0.0.0.0\u001b[39;49m\u001b[39m'\u001b[39;49m,\n\u001b[0;32m      <a href='vscode-notebook-cell:/c%3A/Users/luoyi/Desktop/wtp/DeviceHive-Yingjun/DeviceHive-Yingjun/postgres/db_connect.ipynb#W0sZmlsZQ%3D%3D?line=5'>6</a>\u001b[0m                         password \u001b[39m=\u001b[39;49m \u001b[39m\"\u001b[39;49m\u001b[39mpostgresql_tutorial\u001b[39;49m\u001b[39m\"\u001b[39;49m,\n\u001b[0;32m      <a href='vscode-notebook-cell:/c%3A/Users/luoyi/Desktop/wtp/DeviceHive-Yingjun/DeviceHive-Yingjun/postgres/db_connect.ipynb#W0sZmlsZQ%3D%3D?line=6'>7</a>\u001b[0m                         port \u001b[39m=\u001b[39;49m \u001b[39m5432\u001b[39;49m)\n",
      "File \u001b[1;32mc:\\Users\\luoyi\\AppData\\Local\\Programs\\Python\\Python310\\lib\\site-packages\\psycopg2\\__init__.py:122\u001b[0m, in \u001b[0;36mconnect\u001b[1;34m(dsn, connection_factory, cursor_factory, **kwargs)\u001b[0m\n\u001b[0;32m    119\u001b[0m     kwasync[\u001b[39m'\u001b[39m\u001b[39masync_\u001b[39m\u001b[39m'\u001b[39m] \u001b[39m=\u001b[39m kwargs\u001b[39m.\u001b[39mpop(\u001b[39m'\u001b[39m\u001b[39masync_\u001b[39m\u001b[39m'\u001b[39m)\n\u001b[0;32m    121\u001b[0m dsn \u001b[39m=\u001b[39m _ext\u001b[39m.\u001b[39mmake_dsn(dsn, \u001b[39m*\u001b[39m\u001b[39m*\u001b[39mkwargs)\n\u001b[1;32m--> 122\u001b[0m conn \u001b[39m=\u001b[39m _connect(dsn, connection_factory\u001b[39m=\u001b[39mconnection_factory, \u001b[39m*\u001b[39m\u001b[39m*\u001b[39mkwasync)\n\u001b[0;32m    123\u001b[0m \u001b[39mif\u001b[39;00m cursor_factory \u001b[39mis\u001b[39;00m \u001b[39mnot\u001b[39;00m \u001b[39mNone\u001b[39;00m:\n\u001b[0;32m    124\u001b[0m     conn\u001b[39m.\u001b[39mcursor_factory \u001b[39m=\u001b[39m cursor_factory\n",
      "\u001b[1;31mOperationalError\u001b[0m: connection to server at \"0.0.0.0\", port 5432 failed: Cannot assign requested address (0x00002741/10049)\n\tIs the server running on that host and accepting TCP/IP connections?\n"
     ]
    }
   ],
   "source": [
    "import psycopg2\n",
    "\n",
    "conn = psycopg2.connect(database = \"datacamp_courses\", \n",
    "                        user = \"datacamp\", \n",
    "                        host= '0.0.0.0',\n",
    "                        password = \"postgresql_tutorial\",\n",
    "                        port = 5432)\n"
   ]
  },
  {
   "cell_type": "code",
   "execution_count": null,
   "metadata": {},
   "outputs": [],
   "source": []
  }
 ],
 "metadata": {
  "kernelspec": {
   "display_name": "Python 3",
   "language": "python",
   "name": "python3"
  },
  "language_info": {
   "codemirror_mode": {
    "name": "ipython",
    "version": 3
   },
   "file_extension": ".py",
   "mimetype": "text/x-python",
   "name": "python",
   "nbconvert_exporter": "python",
   "pygments_lexer": "ipython3",
   "version": "3.10.11"
  }
 },
 "nbformat": 4,
 "nbformat_minor": 2
}
