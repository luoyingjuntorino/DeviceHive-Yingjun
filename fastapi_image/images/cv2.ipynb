{
 "cells": [
  {
   "cell_type": "code",
   "execution_count": 1,
   "metadata": {},
   "outputs": [],
   "source": [
    "import cv2\n",
    "\n",
    "# 读取HDR图像\n",
    "hdr_image = cv2.imread(\"2023-11-09-17-45.hdr\", cv2.IMREAD_UNCHANGED)\n",
    "\n",
    "# 创建Reinhard色调映射器\n",
    "tonemap = cv2.createTonemapReinhard(2.2)  # 2.2 是 gamma 值，可以根据需要进行调整\n",
    "\n",
    "# 对HDR图像进行色调映射\n",
    "ldr_image = tonemap.process(hdr_image)\n",
    "\n",
    "# 显示色调映射后的图像\n",
    "cv2.imshow(\"Tone Mapped HDR Image\", ldr_image)\n",
    "cv2.waitKey(0)\n",
    "cv2.destroyAllWindows()"
   ]
  },
  {
   "cell_type": "code",
   "execution_count": null,
   "metadata": {},
   "outputs": [],
   "source": []
  }
 ],
 "metadata": {
  "kernelspec": {
   "display_name": "Python 3",
   "language": "python",
   "name": "python3"
  },
  "language_info": {
   "codemirror_mode": {
    "name": "ipython",
    "version": 3
   },
   "file_extension": ".py",
   "mimetype": "text/x-python",
   "name": "python",
   "nbconvert_exporter": "python",
   "pygments_lexer": "ipython3",
   "version": "3.11.3"
  }
 },
 "nbformat": 4,
 "nbformat_minor": 2
}
