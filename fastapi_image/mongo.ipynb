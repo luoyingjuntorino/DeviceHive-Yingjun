{
 "cells": [
  {
   "cell_type": "code",
   "execution_count": null,
   "metadata": {},
   "outputs": [],
   "source": [
    "from PIL import Image\n",
    "\n",
    "path = \"images/2023-10-31-14-46.jpeg\"\n",
    "\n",
    "image = Image.open(path)\n",
    "\n",
    "image.show()\n"
   ]
  },
  {
   "cell_type": "code",
   "execution_count": 6,
   "metadata": {},
   "outputs": [
    {
     "ename": "AttributeError",
     "evalue": "module 'httpcore' has no attribute 'UnsupportedProtocol'",
     "output_type": "error",
     "traceback": [
      "\u001b[1;31m---------------------------------------------------------------------------\u001b[0m",
      "\u001b[1;31mAttributeError\u001b[0m                            Traceback (most recent call last)",
      "\u001b[1;32mc:\\Users\\39349\\Documents\\GitHub\\DeviceHive-Yingjun\\fastapi_image\\mongo.ipynb Cell 2\u001b[0m line \u001b[0;36m1\n\u001b[1;32m----> <a href='vscode-notebook-cell:/c%3A/Users/39349/Documents/GitHub/DeviceHive-Yingjun/fastapi_image/mongo.ipynb#W1sZmlsZQ%3D%3D?line=0'>1</a>\u001b[0m \u001b[39mimport\u001b[39;00m \u001b[39mpymongo\u001b[39;00m\n\u001b[0;32m      <a href='vscode-notebook-cell:/c%3A/Users/39349/Documents/GitHub/DeviceHive-Yingjun/fastapi_image/mongo.ipynb#W1sZmlsZQ%3D%3D?line=2'>3</a>\u001b[0m client \u001b[39m=\u001b[39m pymongo\u001b[39m.\u001b[39mMongoClient(\u001b[39m\"\u001b[39m\u001b[39mmongodb://localhost:27017/\u001b[39m\u001b[39m\"\u001b[39m)\n\u001b[0;32m      <a href='vscode-notebook-cell:/c%3A/Users/39349/Documents/GitHub/DeviceHive-Yingjun/fastapi_image/mongo.ipynb#W1sZmlsZQ%3D%3D?line=3'>4</a>\u001b[0m \u001b[39m# db = client[\"my_database\"]\u001b[39;00m\n\u001b[0;32m      <a href='vscode-notebook-cell:/c%3A/Users/39349/Documents/GitHub/DeviceHive-Yingjun/fastapi_image/mongo.ipynb#W1sZmlsZQ%3D%3D?line=4'>5</a>\u001b[0m \n\u001b[0;32m      <a href='vscode-notebook-cell:/c%3A/Users/39349/Documents/GitHub/DeviceHive-Yingjun/fastapi_image/mongo.ipynb#W1sZmlsZQ%3D%3D?line=5'>6</a>\u001b[0m \u001b[39m# collection = db[\"images_path\"]\u001b[39;00m\n\u001b[1;32m   (...)\u001b[0m\n\u001b[0;32m     <a href='vscode-notebook-cell:/c%3A/Users/39349/Documents/GitHub/DeviceHive-Yingjun/fastapi_image/mongo.ipynb#W1sZmlsZQ%3D%3D?line=9'>10</a>\u001b[0m \u001b[39m# for result in results:\u001b[39;00m\n\u001b[0;32m     <a href='vscode-notebook-cell:/c%3A/Users/39349/Documents/GitHub/DeviceHive-Yingjun/fastapi_image/mongo.ipynb#W1sZmlsZQ%3D%3D?line=10'>11</a>\u001b[0m \u001b[39m#     print(result)\u001b[39;00m\n",
      "File \u001b[1;32mc:\\Users\\39349\\AppData\\Local\\Programs\\Python\\Python311\\Lib\\site-packages\\pymongo\\__init__.py:93\u001b[0m\n\u001b[0;32m     91\u001b[0m \u001b[39mfrom\u001b[39;00m \u001b[39mpymongo\u001b[39;00m\u001b[39m.\u001b[39;00m\u001b[39mcommon\u001b[39;00m \u001b[39mimport\u001b[39;00m MAX_SUPPORTED_WIRE_VERSION, MIN_SUPPORTED_WIRE_VERSION\n\u001b[0;32m     92\u001b[0m \u001b[39mfrom\u001b[39;00m \u001b[39mpymongo\u001b[39;00m\u001b[39m.\u001b[39;00m\u001b[39mcursor\u001b[39;00m \u001b[39mimport\u001b[39;00m CursorType\n\u001b[1;32m---> 93\u001b[0m \u001b[39mfrom\u001b[39;00m \u001b[39mpymongo\u001b[39;00m\u001b[39m.\u001b[39;00m\u001b[39mmongo_client\u001b[39;00m \u001b[39mimport\u001b[39;00m MongoClient\n\u001b[0;32m     94\u001b[0m \u001b[39mfrom\u001b[39;00m \u001b[39mpymongo\u001b[39;00m\u001b[39m.\u001b[39;00m\u001b[39moperations\u001b[39;00m \u001b[39mimport\u001b[39;00m (\n\u001b[0;32m     95\u001b[0m     DeleteMany,\n\u001b[0;32m     96\u001b[0m     DeleteOne,\n\u001b[1;32m   (...)\u001b[0m\n\u001b[0;32m    101\u001b[0m     UpdateOne,\n\u001b[0;32m    102\u001b[0m )\n\u001b[0;32m    103\u001b[0m \u001b[39mfrom\u001b[39;00m \u001b[39mpymongo\u001b[39;00m\u001b[39m.\u001b[39;00m\u001b[39mread_preferences\u001b[39;00m \u001b[39mimport\u001b[39;00m ReadPreference\n",
      "File \u001b[1;32mc:\\Users\\39349\\AppData\\Local\\Programs\\Python\\Python311\\Lib\\site-packages\\pymongo\\mongo_client.py:62\u001b[0m\n\u001b[0;32m     60\u001b[0m \u001b[39mfrom\u001b[39;00m \u001b[39mbson\u001b[39;00m\u001b[39m.\u001b[39;00m\u001b[39mson\u001b[39;00m \u001b[39mimport\u001b[39;00m SON\n\u001b[0;32m     61\u001b[0m \u001b[39mfrom\u001b[39;00m \u001b[39mbson\u001b[39;00m\u001b[39m.\u001b[39;00m\u001b[39mtimestamp\u001b[39;00m \u001b[39mimport\u001b[39;00m Timestamp\n\u001b[1;32m---> 62\u001b[0m \u001b[39mfrom\u001b[39;00m \u001b[39mpymongo\u001b[39;00m \u001b[39mimport\u001b[39;00m (\n\u001b[0;32m     63\u001b[0m     _csot,\n\u001b[0;32m     64\u001b[0m     client_session,\n\u001b[0;32m     65\u001b[0m     common,\n\u001b[0;32m     66\u001b[0m     database,\n\u001b[0;32m     67\u001b[0m     helpers,\n\u001b[0;32m     68\u001b[0m     message,\n\u001b[0;32m     69\u001b[0m     periodic_executor,\n\u001b[0;32m     70\u001b[0m     uri_parser,\n\u001b[0;32m     71\u001b[0m )\n\u001b[0;32m     72\u001b[0m \u001b[39mfrom\u001b[39;00m \u001b[39mpymongo\u001b[39;00m\u001b[39m.\u001b[39;00m\u001b[39mchange_stream\u001b[39;00m \u001b[39mimport\u001b[39;00m ChangeStream, ClusterChangeStream\n\u001b[0;32m     73\u001b[0m \u001b[39mfrom\u001b[39;00m \u001b[39mpymongo\u001b[39;00m\u001b[39m.\u001b[39;00m\u001b[39mclient_options\u001b[39;00m \u001b[39mimport\u001b[39;00m ClientOptions\n",
      "File \u001b[1;32mc:\\Users\\39349\\AppData\\Local\\Programs\\Python\\Python311\\Lib\\site-packages\\pymongo\\uri_parser.py:43\u001b[0m\n\u001b[0;32m     35\u001b[0m \u001b[39mfrom\u001b[39;00m \u001b[39mpymongo\u001b[39;00m\u001b[39m.\u001b[39;00m\u001b[39mcommon\u001b[39;00m \u001b[39mimport\u001b[39;00m (\n\u001b[0;32m     36\u001b[0m     INTERNAL_URI_OPTION_NAME_MAP,\n\u001b[0;32m     37\u001b[0m     SRV_SERVICE_NAME,\n\u001b[1;32m   (...)\u001b[0m\n\u001b[0;32m     40\u001b[0m     get_validated_options,\n\u001b[0;32m     41\u001b[0m )\n\u001b[0;32m     42\u001b[0m \u001b[39mfrom\u001b[39;00m \u001b[39mpymongo\u001b[39;00m\u001b[39m.\u001b[39;00m\u001b[39merrors\u001b[39;00m \u001b[39mimport\u001b[39;00m ConfigurationError, InvalidURI\n\u001b[1;32m---> 43\u001b[0m \u001b[39mfrom\u001b[39;00m \u001b[39mpymongo\u001b[39;00m\u001b[39m.\u001b[39;00m\u001b[39msrv_resolver\u001b[39;00m \u001b[39mimport\u001b[39;00m _HAVE_DNSPYTHON, _SrvResolver\n\u001b[0;32m     44\u001b[0m \u001b[39mfrom\u001b[39;00m \u001b[39mpymongo\u001b[39;00m\u001b[39m.\u001b[39;00m\u001b[39mtypings\u001b[39;00m \u001b[39mimport\u001b[39;00m _Address\n\u001b[0;32m     46\u001b[0m \u001b[39mif\u001b[39;00m TYPE_CHECKING:\n",
      "File \u001b[1;32mc:\\Users\\39349\\AppData\\Local\\Programs\\Python\\Python311\\Lib\\site-packages\\pymongo\\srv_resolver.py:23\u001b[0m\n\u001b[0;32m     20\u001b[0m \u001b[39mfrom\u001b[39;00m \u001b[39mtyping\u001b[39;00m \u001b[39mimport\u001b[39;00m Any, Optional, Union\n\u001b[0;32m     22\u001b[0m \u001b[39mtry\u001b[39;00m:\n\u001b[1;32m---> 23\u001b[0m     \u001b[39mfrom\u001b[39;00m \u001b[39mdns\u001b[39;00m \u001b[39mimport\u001b[39;00m resolver\n\u001b[0;32m     25\u001b[0m     _HAVE_DNSPYTHON \u001b[39m=\u001b[39m \u001b[39mTrue\u001b[39;00m\n\u001b[0;32m     26\u001b[0m \u001b[39mexcept\u001b[39;00m \u001b[39mImportError\u001b[39;00m:\n",
      "File \u001b[1;32mc:\\Users\\39349\\AppData\\Local\\Programs\\Python\\Python311\\Lib\\site-packages\\dns\\resolver.py:30\u001b[0m\n\u001b[0;32m     27\u001b[0m \u001b[39mfrom\u001b[39;00m \u001b[39mtyping\u001b[39;00m \u001b[39mimport\u001b[39;00m Any, Dict, Iterator, List, Optional, Sequence, Tuple, Union\n\u001b[0;32m     28\u001b[0m \u001b[39mfrom\u001b[39;00m \u001b[39murllib\u001b[39;00m\u001b[39m.\u001b[39;00m\u001b[39mparse\u001b[39;00m \u001b[39mimport\u001b[39;00m urlparse\n\u001b[1;32m---> 30\u001b[0m \u001b[39mimport\u001b[39;00m \u001b[39mdns\u001b[39;00m\u001b[39m.\u001b[39;00m\u001b[39m_ddr\u001b[39;00m\n\u001b[0;32m     31\u001b[0m \u001b[39mimport\u001b[39;00m \u001b[39mdns\u001b[39;00m\u001b[39m.\u001b[39;00m\u001b[39medns\u001b[39;00m\n\u001b[0;32m     32\u001b[0m \u001b[39mimport\u001b[39;00m \u001b[39mdns\u001b[39;00m\u001b[39m.\u001b[39;00m\u001b[39mexception\u001b[39;00m\n",
      "File \u001b[1;32mc:\\Users\\39349\\AppData\\Local\\Programs\\Python\\Python311\\Lib\\site-packages\\dns\\_ddr.py:12\u001b[0m\n\u001b[0;32m     10\u001b[0m \u001b[39mimport\u001b[39;00m \u001b[39mdns\u001b[39;00m\u001b[39m.\u001b[39;00m\u001b[39minet\u001b[39;00m\n\u001b[0;32m     11\u001b[0m \u001b[39mimport\u001b[39;00m \u001b[39mdns\u001b[39;00m\u001b[39m.\u001b[39;00m\u001b[39mname\u001b[39;00m\n\u001b[1;32m---> 12\u001b[0m \u001b[39mimport\u001b[39;00m \u001b[39mdns\u001b[39;00m\u001b[39m.\u001b[39;00m\u001b[39mnameserver\u001b[39;00m\n\u001b[0;32m     13\u001b[0m \u001b[39mimport\u001b[39;00m \u001b[39mdns\u001b[39;00m\u001b[39m.\u001b[39;00m\u001b[39mquery\u001b[39;00m\n\u001b[0;32m     14\u001b[0m \u001b[39mimport\u001b[39;00m \u001b[39mdns\u001b[39;00m\u001b[39m.\u001b[39;00m\u001b[39mrdtypes\u001b[39;00m\u001b[39m.\u001b[39;00m\u001b[39msvcbbase\u001b[39;00m\n",
      "File \u001b[1;32mc:\\Users\\39349\\AppData\\Local\\Programs\\Python\\Python311\\Lib\\site-packages\\dns\\nameserver.py:5\u001b[0m\n\u001b[0;32m      2\u001b[0m \u001b[39mfrom\u001b[39;00m \u001b[39murllib\u001b[39;00m\u001b[39m.\u001b[39;00m\u001b[39mparse\u001b[39;00m \u001b[39mimport\u001b[39;00m urlparse\n\u001b[0;32m      4\u001b[0m \u001b[39mimport\u001b[39;00m \u001b[39mdns\u001b[39;00m\u001b[39m.\u001b[39;00m\u001b[39masyncbackend\u001b[39;00m\n\u001b[1;32m----> 5\u001b[0m \u001b[39mimport\u001b[39;00m \u001b[39mdns\u001b[39;00m\u001b[39m.\u001b[39;00m\u001b[39masyncquery\u001b[39;00m\n\u001b[0;32m      6\u001b[0m \u001b[39mimport\u001b[39;00m \u001b[39mdns\u001b[39;00m\u001b[39m.\u001b[39;00m\u001b[39minet\u001b[39;00m\n\u001b[0;32m      7\u001b[0m \u001b[39mimport\u001b[39;00m \u001b[39mdns\u001b[39;00m\u001b[39m.\u001b[39;00m\u001b[39mmessage\u001b[39;00m\n",
      "File \u001b[1;32mc:\\Users\\39349\\AppData\\Local\\Programs\\Python\\Python311\\Lib\\site-packages\\dns\\asyncquery.py:38\u001b[0m\n\u001b[0;32m     36\u001b[0m \u001b[39mimport\u001b[39;00m \u001b[39mdns\u001b[39;00m\u001b[39m.\u001b[39;00m\u001b[39mtransaction\u001b[39;00m\n\u001b[0;32m     37\u001b[0m \u001b[39mfrom\u001b[39;00m \u001b[39mdns\u001b[39;00m\u001b[39m.\u001b[39;00m\u001b[39m_asyncbackend\u001b[39;00m \u001b[39mimport\u001b[39;00m NullContext\n\u001b[1;32m---> 38\u001b[0m \u001b[39mfrom\u001b[39;00m \u001b[39mdns\u001b[39;00m\u001b[39m.\u001b[39;00m\u001b[39mquery\u001b[39;00m \u001b[39mimport\u001b[39;00m (\n\u001b[0;32m     39\u001b[0m     BadResponse,\n\u001b[0;32m     40\u001b[0m     NoDOH,\n\u001b[0;32m     41\u001b[0m     NoDOQ,\n\u001b[0;32m     42\u001b[0m     UDPMode,\n\u001b[0;32m     43\u001b[0m     _compute_times,\n\u001b[0;32m     44\u001b[0m     _have_http2,\n\u001b[0;32m     45\u001b[0m     _matches_destination,\n\u001b[0;32m     46\u001b[0m     _remaining,\n\u001b[0;32m     47\u001b[0m     have_doh,\n\u001b[0;32m     48\u001b[0m     ssl,\n\u001b[0;32m     49\u001b[0m )\n\u001b[0;32m     51\u001b[0m \u001b[39mif\u001b[39;00m have_doh:\n\u001b[0;32m     52\u001b[0m     \u001b[39mimport\u001b[39;00m \u001b[39mhttpx\u001b[39;00m\n",
      "File \u001b[1;32mc:\\Users\\39349\\AppData\\Local\\Programs\\Python\\Python311\\Lib\\site-packages\\dns\\query.py:65\u001b[0m\n\u001b[0;32m     63\u001b[0m \u001b[39mimport\u001b[39;00m \u001b[39mhttpcore\u001b[39;00m\n\u001b[0;32m     64\u001b[0m \u001b[39mimport\u001b[39;00m \u001b[39mhttpcore\u001b[39;00m\u001b[39m.\u001b[39;00m\u001b[39m_backends\u001b[39;00m\u001b[39m.\u001b[39;00m\u001b[39msync\u001b[39;00m\n\u001b[1;32m---> 65\u001b[0m \u001b[39mimport\u001b[39;00m \u001b[39mhttpx\u001b[39;00m\n\u001b[0;32m     67\u001b[0m _CoreNetworkBackend \u001b[39m=\u001b[39m httpcore\u001b[39m.\u001b[39mNetworkBackend\n\u001b[0;32m     68\u001b[0m _CoreSyncStream \u001b[39m=\u001b[39m httpcore\u001b[39m.\u001b[39m_backends\u001b[39m.\u001b[39msync\u001b[39m.\u001b[39mSyncStream\n",
      "File \u001b[1;32mc:\\Users\\39349\\AppData\\Local\\Programs\\Python\\Python311\\Lib\\site-packages\\httpx\\__init__.py:2\u001b[0m\n\u001b[0;32m      1\u001b[0m \u001b[39mfrom\u001b[39;00m \u001b[39m.\u001b[39;00m\u001b[39m__version__\u001b[39;00m \u001b[39mimport\u001b[39;00m __description__, __title__, __version__\n\u001b[1;32m----> 2\u001b[0m \u001b[39mfrom\u001b[39;00m \u001b[39m.\u001b[39;00m\u001b[39m_api\u001b[39;00m \u001b[39mimport\u001b[39;00m delete, get, head, options, patch, post, put, request, stream\n\u001b[0;32m      3\u001b[0m \u001b[39mfrom\u001b[39;00m \u001b[39m.\u001b[39;00m\u001b[39m_auth\u001b[39;00m \u001b[39mimport\u001b[39;00m Auth, BasicAuth, DigestAuth, NetRCAuth\n\u001b[0;32m      4\u001b[0m \u001b[39mfrom\u001b[39;00m \u001b[39m.\u001b[39;00m\u001b[39m_client\u001b[39;00m \u001b[39mimport\u001b[39;00m USE_CLIENT_DEFAULT, AsyncClient, Client\n",
      "File \u001b[1;32mc:\\Users\\39349\\AppData\\Local\\Programs\\Python\\Python311\\Lib\\site-packages\\httpx\\_api.py:4\u001b[0m\n\u001b[0;32m      1\u001b[0m \u001b[39mimport\u001b[39;00m \u001b[39mtyping\u001b[39;00m\n\u001b[0;32m      2\u001b[0m \u001b[39mfrom\u001b[39;00m \u001b[39mcontextlib\u001b[39;00m \u001b[39mimport\u001b[39;00m contextmanager\n\u001b[1;32m----> 4\u001b[0m \u001b[39mfrom\u001b[39;00m \u001b[39m.\u001b[39;00m\u001b[39m_client\u001b[39;00m \u001b[39mimport\u001b[39;00m Client\n\u001b[0;32m      5\u001b[0m \u001b[39mfrom\u001b[39;00m \u001b[39m.\u001b[39;00m\u001b[39m_config\u001b[39;00m \u001b[39mimport\u001b[39;00m DEFAULT_TIMEOUT_CONFIG\n\u001b[0;32m      6\u001b[0m \u001b[39mfrom\u001b[39;00m \u001b[39m.\u001b[39;00m\u001b[39m_models\u001b[39;00m \u001b[39mimport\u001b[39;00m Response\n",
      "File \u001b[1;32mc:\\Users\\39349\\AppData\\Local\\Programs\\Python\\Python311\\Lib\\site-packages\\httpx\\_client.py:30\u001b[0m\n\u001b[0;32m     28\u001b[0m \u001b[39mfrom\u001b[39;00m \u001b[39m.\u001b[39;00m\u001b[39m_transports\u001b[39;00m\u001b[39m.\u001b[39;00m\u001b[39masgi\u001b[39;00m \u001b[39mimport\u001b[39;00m ASGITransport\n\u001b[0;32m     29\u001b[0m \u001b[39mfrom\u001b[39;00m \u001b[39m.\u001b[39;00m\u001b[39m_transports\u001b[39;00m\u001b[39m.\u001b[39;00m\u001b[39mbase\u001b[39;00m \u001b[39mimport\u001b[39;00m AsyncBaseTransport, BaseTransport\n\u001b[1;32m---> 30\u001b[0m \u001b[39mfrom\u001b[39;00m \u001b[39m.\u001b[39;00m\u001b[39m_transports\u001b[39;00m\u001b[39m.\u001b[39;00m\u001b[39mdefault\u001b[39;00m \u001b[39mimport\u001b[39;00m AsyncHTTPTransport, HTTPTransport\n\u001b[0;32m     31\u001b[0m \u001b[39mfrom\u001b[39;00m \u001b[39m.\u001b[39;00m\u001b[39m_transports\u001b[39;00m\u001b[39m.\u001b[39;00m\u001b[39mwsgi\u001b[39;00m \u001b[39mimport\u001b[39;00m WSGITransport\n\u001b[0;32m     32\u001b[0m \u001b[39mfrom\u001b[39;00m \u001b[39m.\u001b[39;00m\u001b[39m_types\u001b[39;00m \u001b[39mimport\u001b[39;00m (\n\u001b[0;32m     33\u001b[0m     AsyncByteStream,\n\u001b[0;32m     34\u001b[0m     AuthTypes,\n\u001b[1;32m   (...)\u001b[0m\n\u001b[0;32m     47\u001b[0m     VerifyTypes,\n\u001b[0;32m     48\u001b[0m )\n",
      "File \u001b[1;32mc:\\Users\\39349\\AppData\\Local\\Programs\\Python\\Python311\\Lib\\site-packages\\httpx\\_transports\\default.py:97\u001b[0m\n\u001b[0;32m     82\u001b[0m         message \u001b[39m=\u001b[39m \u001b[39mstr\u001b[39m(exc)\n\u001b[0;32m     83\u001b[0m         \u001b[39mraise\u001b[39;00m mapped_exc(message) \u001b[39mfrom\u001b[39;00m \u001b[39mexc\u001b[39;00m\n\u001b[0;32m     86\u001b[0m HTTPCORE_EXC_MAP \u001b[39m=\u001b[39m {\n\u001b[0;32m     87\u001b[0m     httpcore\u001b[39m.\u001b[39mTimeoutException: TimeoutException,\n\u001b[0;32m     88\u001b[0m     httpcore\u001b[39m.\u001b[39mConnectTimeout: ConnectTimeout,\n\u001b[0;32m     89\u001b[0m     httpcore\u001b[39m.\u001b[39mReadTimeout: ReadTimeout,\n\u001b[0;32m     90\u001b[0m     httpcore\u001b[39m.\u001b[39mWriteTimeout: WriteTimeout,\n\u001b[0;32m     91\u001b[0m     httpcore\u001b[39m.\u001b[39mPoolTimeout: PoolTimeout,\n\u001b[0;32m     92\u001b[0m     httpcore\u001b[39m.\u001b[39mNetworkError: NetworkError,\n\u001b[0;32m     93\u001b[0m     httpcore\u001b[39m.\u001b[39mConnectError: ConnectError,\n\u001b[0;32m     94\u001b[0m     httpcore\u001b[39m.\u001b[39mReadError: ReadError,\n\u001b[0;32m     95\u001b[0m     httpcore\u001b[39m.\u001b[39mWriteError: WriteError,\n\u001b[0;32m     96\u001b[0m     httpcore\u001b[39m.\u001b[39mProxyError: ProxyError,\n\u001b[1;32m---> 97\u001b[0m     httpcore\u001b[39m.\u001b[39;49mUnsupportedProtocol: UnsupportedProtocol,\n\u001b[0;32m     98\u001b[0m     httpcore\u001b[39m.\u001b[39mProtocolError: ProtocolError,\n\u001b[0;32m     99\u001b[0m     httpcore\u001b[39m.\u001b[39mLocalProtocolError: LocalProtocolError,\n\u001b[0;32m    100\u001b[0m     httpcore\u001b[39m.\u001b[39mRemoteProtocolError: RemoteProtocolError,\n\u001b[0;32m    101\u001b[0m }\n\u001b[0;32m    104\u001b[0m \u001b[39mclass\u001b[39;00m \u001b[39mResponseStream\u001b[39;00m(SyncByteStream):\n\u001b[0;32m    105\u001b[0m     \u001b[39mdef\u001b[39;00m \u001b[39m__init__\u001b[39m(\u001b[39mself\u001b[39m, httpcore_stream: typing\u001b[39m.\u001b[39mIterable[\u001b[39mbytes\u001b[39m]):\n",
      "\u001b[1;31mAttributeError\u001b[0m: module 'httpcore' has no attribute 'UnsupportedProtocol'"
     ]
    }
   ],
   "source": [
    "import pymongo\n",
    "\n",
    "client = pymongo.MongoClient(\"mongodb://localhost:27017/\")\n",
    "# db = client[\"my_database\"]\n",
    "\n",
    "# collection = db[\"images_path\"]\n",
    "\n",
    "# results = collection.find({})\n",
    "\n",
    "# for result in results:\n",
    "#     print(result)\n"
   ]
  },
  {
   "cell_type": "code",
   "execution_count": null,
   "metadata": {},
   "outputs": [],
   "source": [
    "import zipfile\n",
    "import os\n",
    "image_folder = \"images\"\n",
    "zip_filename = \"images.zip\"\n",
    "with zipfile.ZipFile(zip_filename, 'w', zipfile.ZIP_DEFLATED) as zipf:\n",
    "    for root, dirs, files in os.walk(image_folder):\n",
    "        for image_file in files:\n",
    "            image_path = os.path.join(root, image_file)\n",
    "            zipf.write(image_path, os.path.relpath(image_path, image_folder))\n",
    "\n",
    "print(f\"Images from the '{image_folder}' folder have been compressed and saved to {zip_filename}\")"
   ]
  },
  {
   "cell_type": "code",
   "execution_count": null,
   "metadata": {},
   "outputs": [],
   "source": []
  }
 ],
 "metadata": {
  "kernelspec": {
   "display_name": "Python 3",
   "language": "python",
   "name": "python3"
  },
  "language_info": {
   "codemirror_mode": {
    "name": "ipython",
    "version": 3
   },
   "file_extension": ".py",
   "mimetype": "text/x-python",
   "name": "python",
   "nbconvert_exporter": "python",
   "pygments_lexer": "ipython3",
   "version": "3.11.3"
  }
 },
 "nbformat": 4,
 "nbformat_minor": 2
}
