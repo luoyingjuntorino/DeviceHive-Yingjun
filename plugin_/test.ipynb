{
 "cells": [
  {
   "cell_type": "code",
   "execution_count": 4,
   "metadata": {},
   "outputs": [
    {
     "name": "stdout",
     "output_type": "stream",
     "text": [
      "[1]\n"
     ]
    }
   ],
   "source": [
    "a = 'command,command_update,notification/1,2/*/*/*/*'\n",
    "\n",
    "# 使用split()方法将字符串分割成列表\n",
    "elements = a.split(',')\n",
    "\n",
    "# 选择所需的元素并将它们转换为整数\n",
    "selected_elements = [int(element) for element in elements[2].split('/') if element.isdigit()]\n",
    "\n",
    "# 输出所得的列表\n",
    "print(selected_elements)\n"
   ]
  },
  {
   "cell_type": "code",
   "execution_count": 8,
   "metadata": {},
   "outputs": [
    {
     "name": "stdout",
     "output_type": "stream",
     "text": [
      "[1, 2, 2, 5]\n"
     ]
    }
   ],
   "source": [
    "import re\n",
    "\n",
    "a = 'command,command_update,notification/1,2,2,5/*/*/*/*'\n",
    "\n",
    "# 使用正则表达式来匹配数字\n",
    "numbers = re.findall(r'\\d+', a)\n",
    "\n",
    "# 将匹配到的数字转换为整数并存储在列表中\n",
    "result = [int(num) for num in numbers]\n",
    "\n",
    "# 输出结果列表\n",
    "print(result)\n"
   ]
  },
  {
   "cell_type": "code",
   "execution_count": 18,
   "metadata": {},
   "outputs": [],
   "source": [
    "x = 3"
   ]
  },
  {
   "cell_type": "code",
   "execution_count": 19,
   "metadata": {},
   "outputs": [
    {
     "name": "stdout",
     "output_type": "stream",
     "text": [
      "3 not in [1, 2, 2, 5, 6]\n"
     ]
    }
   ],
   "source": [
    "if x not in result:\n",
    "    print(f'{x} not in {result}')\n",
    "else:\n",
    "    print(f'{x} in {result}')"
   ]
  },
  {
   "cell_type": "code",
   "execution_count": 20,
   "metadata": {},
   "outputs": [],
   "source": [
    "result.append(x)"
   ]
  },
  {
   "cell_type": "code",
   "execution_count": 21,
   "metadata": {},
   "outputs": [
    {
     "data": {
      "text/plain": [
       "[1, 2, 2, 5, 6, 3]"
      ]
     },
     "execution_count": 21,
     "metadata": {},
     "output_type": "execute_result"
    }
   ],
   "source": [
    "result"
   ]
  },
  {
   "cell_type": "code",
   "execution_count": 22,
   "metadata": {},
   "outputs": [],
   "source": [
    "result.sort()"
   ]
  },
  {
   "cell_type": "code",
   "execution_count": 31,
   "metadata": {},
   "outputs": [],
   "source": [
    "result = [1,2,3]\n",
    "network_ids_list = result\n",
    "network_ids_str = \"%2C\".join(network_ids_list)\n",
    "result_str = f\"networkIds={network_ids_str}\""
   ]
  },
  {
   "cell_type": "code",
   "execution_count": 32,
   "metadata": {},
   "outputs": [
    {
     "ename": "TypeError",
     "evalue": "sequence item 0: expected str instance, int found",
     "output_type": "error",
     "traceback": [
      "\u001b[1;31m---------------------------------------------------------------------------\u001b[0m",
      "\u001b[1;31mTypeError\u001b[0m                                 Traceback (most recent call last)",
      "\u001b[1;32mc:\\Users\\39349\\Documents\\GitHub\\DeviceHive-Yingjun\\plugin_\\test.ipynb Cell 9\u001b[0m line \u001b[0;36m2\n\u001b[0;32m      <a href='vscode-notebook-cell:/c%3A/Users/39349/Documents/GitHub/DeviceHive-Yingjun/plugin_/test.ipynb#X11sZmlsZQ%3D%3D?line=0'>1</a>\u001b[0m network_ids_list \u001b[39m=\u001b[39m result\n\u001b[1;32m----> <a href='vscode-notebook-cell:/c%3A/Users/39349/Documents/GitHub/DeviceHive-Yingjun/plugin_/test.ipynb#X11sZmlsZQ%3D%3D?line=1'>2</a>\u001b[0m network_ids_str \u001b[39m=\u001b[39m \u001b[39m\"\u001b[39;49m\u001b[39m%\u001b[39;49m\u001b[39m2C\u001b[39;49m\u001b[39m\"\u001b[39;49m\u001b[39m.\u001b[39;49mjoin(network_ids_list)\n\u001b[0;32m      <a href='vscode-notebook-cell:/c%3A/Users/39349/Documents/GitHub/DeviceHive-Yingjun/plugin_/test.ipynb#X11sZmlsZQ%3D%3D?line=2'>3</a>\u001b[0m result_str \u001b[39m=\u001b[39m \u001b[39mf\u001b[39m\u001b[39m\"\u001b[39m\u001b[39mnetworkIds=\u001b[39m\u001b[39m{\u001b[39;00mnetwork_ids_str\u001b[39m}\u001b[39;00m\u001b[39m\"\u001b[39m\n",
      "\u001b[1;31mTypeError\u001b[0m: sequence item 0: expected str instance, int found"
     ]
    }
   ],
   "source": [
    "network_ids_list = result\n",
    "network_ids_str = \"%2C\".join(network_ids_list)\n",
    "result_str = f\"networkIds={network_ids_str}\""
   ]
  },
  {
   "cell_type": "code",
   "execution_count": 33,
   "metadata": {},
   "outputs": [],
   "source": [
    "result = [1, 2, 3]\n",
    "network_ids_list = result\n",
    "\n",
    "# 将整数转换为字符串\n",
    "network_ids_str = \"%2C\".join(map(str, network_ids_list))\n",
    "\n",
    "result_str = f\"networkIds={network_ids_str}\"\n"
   ]
  },
  {
   "cell_type": "code",
   "execution_count": 34,
   "metadata": {},
   "outputs": [
    {
     "data": {
      "text/plain": [
       "'networkIds=1%2C2%2C3'"
      ]
     },
     "execution_count": 34,
     "metadata": {},
     "output_type": "execute_result"
    }
   ],
   "source": [
    "result_str"
   ]
  },
  {
   "cell_type": "code",
   "execution_count": null,
   "metadata": {},
   "outputs": [],
   "source": []
  }
 ],
 "metadata": {
  "kernelspec": {
   "display_name": "Python 3",
   "language": "python",
   "name": "python3"
  },
  "language_info": {
   "codemirror_mode": {
    "name": "ipython",
    "version": 3
   },
   "file_extension": ".py",
   "mimetype": "text/x-python",
   "name": "python",
   "nbconvert_exporter": "python",
   "pygments_lexer": "ipython3",
   "version": "3.11.3"
  }
 },
 "nbformat": 4,
 "nbformat_minor": 2
}
