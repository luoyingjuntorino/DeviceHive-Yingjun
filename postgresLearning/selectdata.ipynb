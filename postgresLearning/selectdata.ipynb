{
 "cells": [
  {
   "cell_type": "code",
   "execution_count": 7,
   "metadata": {},
   "outputs": [
    {
     "name": "stdout",
     "output_type": "stream",
     "text": [
      "{'first_name': 'Ramya', 'last_name': 'Rama priya', 'age': 27, 'sex': 'F', 'income': 9000.0}\n",
      "{'first_name': 'Vinay', 'last_name': 'Battacharya', 'age': 20, 'sex': 'M', 'income': 6000.0}\n",
      "{'first_name': 'Sharukh', 'last_name': 'Sheik', 'age': 25, 'sex': 'M', 'income': 8300.0}\n",
      "{'first_name': 'Sarmista', 'last_name': 'Sharma', 'age': 26, 'sex': 'F', 'income': 10000.0}\n",
      "{'first_name': 'Tripthi', 'last_name': 'Mishra', 'age': 24, 'sex': 'F', 'income': 6000.0}\n"
     ]
    }
   ],
   "source": [
    "import psycopg2\n",
    "\n",
    "#establishing the connection\n",
    "conn = psycopg2.connect(\n",
    "   database=\"postgres\", user='postgres', password='postgres', host='localhost', port= '5433'\n",
    ")\n",
    "\n",
    "# Setting auto commit to True\n",
    "conn.autocommit = True\n",
    "\n",
    "# Creating a cursor object using the cursor() method\n",
    "cursor = conn.cursor()\n",
    "\n",
    "# Retrieving data\n",
    "cursor.execute('''SELECT * from EMPLOYEE''')\n",
    "\n",
    "# Converting query result to a list of dictionaries\n",
    "columns = [desc[0] for desc in cursor.description]\n",
    "rows = cursor.fetchall()\n",
    "results_as_dicts = [dict((columns[i], value.strip() if isinstance(value, str) else value) for i, value in enumerate(row)) for row in rows]\n",
    "\n",
    "# Now results_as_dicts is a list of dictionaries, each dictionary represents a row\n",
    "for row in results_as_dicts:\n",
    "    print(row)\n",
    "\n",
    "# Commit your changes in the database (not required in this example as we use autocommit)\n",
    "# conn.commit()\n",
    "\n",
    "# Closing the connection\n",
    "conn.close()"
   ]
  },
  {
   "cell_type": "code",
   "execution_count": 8,
   "metadata": {},
   "outputs": [
    {
     "data": {
      "text/plain": [
       "list"
      ]
     },
     "execution_count": 8,
     "metadata": {},
     "output_type": "execute_result"
    }
   ],
   "source": [
    "type(results_as_dicts)"
   ]
  },
  {
   "cell_type": "code",
   "execution_count": 9,
   "metadata": {},
   "outputs": [
    {
     "data": {
      "text/plain": [
       "'Ramya'"
      ]
     },
     "execution_count": 9,
     "metadata": {},
     "output_type": "execute_result"
    }
   ],
   "source": [
    "results_as_dicts[0][\"first_name\"]"
   ]
  },
  {
   "cell_type": "code",
   "execution_count": null,
   "metadata": {},
   "outputs": [],
   "source": []
  }
 ],
 "metadata": {
  "kernelspec": {
   "display_name": "Python 3",
   "language": "python",
   "name": "python3"
  },
  "language_info": {
   "codemirror_mode": {
    "name": "ipython",
    "version": 3
   },
   "file_extension": ".py",
   "mimetype": "text/x-python",
   "name": "python",
   "nbconvert_exporter": "python",
   "pygments_lexer": "ipython3",
   "version": "3.11.3"
  }
 },
 "nbformat": 4,
 "nbformat_minor": 2
}
