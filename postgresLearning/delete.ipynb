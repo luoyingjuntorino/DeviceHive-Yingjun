{
 "cells": [
  {
   "cell_type": "code",
   "execution_count": 1,
   "metadata": {},
   "outputs": [
    {
     "name": "stdout",
     "output_type": "stream",
     "text": [
      "Contents of the table: \n",
      "[('Krishna             ', 'Sharma              ', 20, 'M', 2000.0), ('Raj                 ', 'Kandukuri           ', 21, 'M', 7000.0), ('Ramya               ', 'Ramapriya           ', 26, 'M', 5000.0), ('Mac                 ', 'Mohan               ', 27, 'M', 2000.0)]\n",
      "Contents of the table after delete operation \n",
      "[('Krishna             ', 'Sharma              ', 20, 'M', 2000.0), ('Raj                 ', 'Kandukuri           ', 21, 'M', 7000.0)]\n"
     ]
    }
   ],
   "source": [
    "import psycopg2\n",
    "\n",
    "#establishing the connection\n",
    "conn = psycopg2.connect(\n",
    "   database=\"postgres\", user='postgres', password='postgres', host='localhost', port= '5433'\n",
    ")\n",
    "\n",
    "#Setting auto commit false\n",
    "conn.autocommit = True\n",
    "\n",
    "#Creating a cursor object using the cursor() method\n",
    "cursor = conn.cursor()\n",
    "\n",
    "#Retrieving contents of the table\n",
    "print(\"Contents of the table: \")\n",
    "cursor.execute('''SELECT * from EMPLOYEE''')\n",
    "print(cursor.fetchall())\n",
    "\n",
    "#Deleting records\n",
    "cursor.execute('''DELETE FROM EMPLOYEE WHERE AGE > 25''')\n",
    "\n",
    "#Retrieving data after delete\n",
    "print(\"Contents of the table after delete operation \")\n",
    "cursor.execute(\"SELECT * from EMPLOYEE\")\n",
    "print(cursor.fetchall())\n",
    "\n",
    "#Commit your changes in the database\n",
    "conn.commit()\n",
    "\n",
    "#Closing the connection\n",
    "conn.close()"
   ]
  },
  {
   "cell_type": "code",
   "execution_count": null,
   "metadata": {},
   "outputs": [],
   "source": []
  }
 ],
 "metadata": {
  "kernelspec": {
   "display_name": "Python 3",
   "language": "python",
   "name": "python3"
  },
  "language_info": {
   "codemirror_mode": {
    "name": "ipython",
    "version": 3
   },
   "file_extension": ".py",
   "mimetype": "text/x-python",
   "name": "python",
   "nbconvert_exporter": "python",
   "pygments_lexer": "ipython3",
   "version": "3.11.3"
  }
 },
 "nbformat": 4,
 "nbformat_minor": 2
}
