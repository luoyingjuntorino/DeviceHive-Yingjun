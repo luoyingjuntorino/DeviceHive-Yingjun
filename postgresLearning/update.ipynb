{
 "cells": [
  {
   "cell_type": "code",
   "execution_count": 2,
   "metadata": {},
   "outputs": [
    {
     "name": "stdout",
     "output_type": "stream",
     "text": [
      "Contents of the Employee table: \n",
      "[('Krishna             ', 'Sharma              ', 20, 'M', 2000.0), ('Raj                 ', 'Kandukuri           ', 21, 'M', 7000.0), ('Io                  ', 'Tu                  ', 27, 'F', 9000.0), ('Sharukh             ', 'Sheik               ', 27, 'F', 9000.0)]\n",
      "Table updated...... \n",
      "Contents of the Employee table after the update operation: \n",
      "[('Io                  ', 'Tu                  ', 27, 'F', 9000.0), ('Sharukh             ', 'Sheik               ', 27, 'F', 9000.0), ('Krishna             ', 'Sharma              ', 21, 'M', 2000.0), ('Raj                 ', 'Kandukuri           ', 22, 'M', 7000.0)]\n"
     ]
    }
   ],
   "source": [
    "import psycopg2\n",
    "\n",
    "#establishing the connection\n",
    "conn = psycopg2.connect(\n",
    "   database=\"postgres\", user='postgres', password='postgres', host='localhost', port= '5433'\n",
    ")\n",
    "\n",
    "#Setting auto commit false\n",
    "conn.autocommit = True\n",
    "\n",
    "#Creating a cursor object using the cursor() method\n",
    "cursor = conn.cursor()\n",
    "\n",
    "#Fetching all the rows before the update\n",
    "print(\"Contents of the Employee table: \")\n",
    "sql = '''SELECT * from EMPLOYEE'''\n",
    "cursor.execute(sql)\n",
    "print(cursor.fetchall())\n",
    "\n",
    "#Updating the records\n",
    "sql = \"UPDATE EMPLOYEE SET AGE = AGE + 1 WHERE SEX = 'M'\"\n",
    "cursor.execute(sql)\n",
    "print(\"Table updated...... \")\n",
    "\n",
    "#Fetching all the rows after the update\n",
    "print(\"Contents of the Employee table after the update operation: \")\n",
    "sql = '''SELECT * from EMPLOYEE'''\n",
    "cursor.execute(sql)\n",
    "print(cursor.fetchall())\n",
    "\n",
    "#Commit your changes in the database\n",
    "conn.commit()\n",
    "\n",
    "#Closing the connection\n",
    "conn.close()"
   ]
  },
  {
   "cell_type": "code",
   "execution_count": null,
   "metadata": {},
   "outputs": [],
   "source": []
  }
 ],
 "metadata": {
  "kernelspec": {
   "display_name": "Python 3",
   "language": "python",
   "name": "python3"
  },
  "language_info": {
   "codemirror_mode": {
    "name": "ipython",
    "version": 3
   },
   "file_extension": ".py",
   "mimetype": "text/x-python",
   "name": "python",
   "nbconvert_exporter": "python",
   "pygments_lexer": "ipython3",
   "version": "3.11.3"
  }
 },
 "nbformat": 4,
 "nbformat_minor": 2
}
