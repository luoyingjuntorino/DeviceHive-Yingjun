{
 "cells": [
  {
   "cell_type": "code",
   "execution_count": 3,
   "metadata": {},
   "outputs": [
    {
     "name": "stdout",
     "output_type": "stream",
     "text": [
      "Records inserted........\n"
     ]
    }
   ],
   "source": [
    "import psycopg2\n",
    "\n",
    "#establishing the connection\n",
    "conn = psycopg2.connect(\n",
    "   database=\"postgres\", user='postgres', password='postgres', host='localhost', port= '5433'\n",
    ")\n",
    "#Setting auto commit false\n",
    "conn.autocommit = True\n",
    "\n",
    "#Creating a cursor object using the cursor() method\n",
    "cursor = conn.cursor()\n",
    "\n",
    "# Preparing SQL queries to INSERT a record into the database.\n",
    "cursor.execute('''INSERT INTO EMPLOYEE(FIRST_NAME, LAST_NAME, AGE, SEX,\n",
    "   INCOME) VALUES ('Ramya', 'Rama priya', 27, 'F', 9000)''')\n",
    "cursor.execute('''INSERT INTO EMPLOYEE(FIRST_NAME, LAST_NAME, AGE, SEX,\n",
    "   INCOME) VALUES ('Vinay', 'Battacharya', 20, 'M', 6000)''')\n",
    "cursor.execute('''INSERT INTO EMPLOYEE(FIRST_NAME, LAST_NAME, AGE, SEX,\n",
    "   INCOME) VALUES ('Sharukh', 'Sheik', 25, 'M', 8300)''')\n",
    "cursor.execute('''INSERT INTO EMPLOYEE(FIRST_NAME, LAST_NAME, AGE, SEX,\n",
    "   INCOME) VALUES ('Sarmista', 'Sharma', 26, 'F', 10000)''')\n",
    "cursor.execute('''INSERT INTO EMPLOYEE(FIRST_NAME, LAST_NAME, AGE, SEX,\n",
    "   INCOME) VALUES ('Tripthi', 'Mishra', 24, 'F', 6000)''')\n",
    "\n",
    "# Commit your changes in the database\n",
    "conn.commit()\n",
    "print(\"Records inserted........\")\n",
    "\n",
    "# Closing the connection\n",
    "conn.close()"
   ]
  },
  {
   "cell_type": "code",
   "execution_count": null,
   "metadata": {},
   "outputs": [],
   "source": []
  }
 ],
 "metadata": {
  "kernelspec": {
   "display_name": "Python 3",
   "language": "python",
   "name": "python3"
  },
  "language_info": {
   "codemirror_mode": {
    "name": "ipython",
    "version": 3
   },
   "file_extension": ".py",
   "mimetype": "text/x-python",
   "name": "python",
   "nbconvert_exporter": "python",
   "pygments_lexer": "ipython3",
   "version": "3.11.3"
  }
 },
 "nbformat": 4,
 "nbformat_minor": 2
}
