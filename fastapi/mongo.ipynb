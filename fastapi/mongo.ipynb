{
 "cells": [
  {
   "cell_type": "code",
   "execution_count": 13,
   "metadata": {},
   "outputs": [],
   "source": [
    "from PIL import Image\n",
    "\n",
    "path = \"images/2023-10-31-14-46.jpeg\"\n",
    "\n",
    "image = Image.open(path)\n",
    "\n",
    "image.show()\n"
   ]
  },
  {
   "cell_type": "code",
   "execution_count": 14,
   "metadata": {},
   "outputs": [
    {
     "name": "stdout",
     "output_type": "stream",
     "text": [
      "{'_id': ObjectId('65410538446a4a14da10c7f1'), 'file_name': '2023-10-31-14-46.jpeg', 'path': 'images\\\\2023-10-31-14-46.jpeg', 'description': '{\"description\":\"Hello! this is from welcome.\"}'}\n",
      "{'_id': ObjectId('65410b987f192443add32710'), 'file_name': '2023-10-31-15-13.jpeg', 'path': 'images\\\\2023-10-31-15-13.jpeg', 'description': '{\"metadata\":\"We’ve got something special for you tonight. No tricks, just treats. Tune in at 5pm PT.\"}'}\n"
     ]
    }
   ],
   "source": [
    "import pymongo\n",
    "\n",
    "client = pymongo.MongoClient(\"mongodb://localhost:27017/\")\n",
    "db = client[\"my_database\"]\n",
    "\n",
    "collection = db[\"images_path\"]\n",
    "\n",
    "results = collection.find({})\n",
    "\n",
    "for result in results:\n",
    "    print(result)\n"
   ]
  },
  {
   "cell_type": "code",
   "execution_count": 18,
   "metadata": {},
   "outputs": [
    {
     "name": "stdout",
     "output_type": "stream",
     "text": [
      "Images from the 'images' folder have been compressed and saved to images.zip\n"
     ]
    }
   ],
   "source": [
    "import zipfile\n",
    "import os\n",
    "image_folder = \"images\"\n",
    "zip_filename = \"images.zip\"\n",
    "with zipfile.ZipFile(zip_filename, 'w', zipfile.ZIP_DEFLATED) as zipf:\n",
    "    for root, dirs, files in os.walk(image_folder):\n",
    "        for image_file in files:\n",
    "            image_path = os.path.join(root, image_file)\n",
    "            zipf.write(image_path, os.path.relpath(image_path, image_folder))\n",
    "\n",
    "print(f\"Images from the '{image_folder}' folder have been compressed and saved to {zip_filename}\")"
   ]
  },
  {
   "cell_type": "code",
   "execution_count": null,
   "metadata": {},
   "outputs": [],
   "source": []
  }
 ],
 "metadata": {
  "kernelspec": {
   "display_name": "Python 3",
   "language": "python",
   "name": "python3"
  },
  "language_info": {
   "codemirror_mode": {
    "name": "ipython",
    "version": 3
   },
   "file_extension": ".py",
   "mimetype": "text/x-python",
   "name": "python",
   "nbconvert_exporter": "python",
   "pygments_lexer": "ipython3",
   "version": "3.10.11"
  }
 },
 "nbformat": 4,
 "nbformat_minor": 2
}
