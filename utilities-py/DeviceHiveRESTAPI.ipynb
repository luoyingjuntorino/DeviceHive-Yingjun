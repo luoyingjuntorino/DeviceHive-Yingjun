{
 "cells": [
  {
   "cell_type": "code",
   "execution_count": 67,
   "metadata": {},
   "outputs": [],
   "source": [
    "import requests\n",
    "import json\n",
    "\n",
    "url = \"http://localhost:80/auth/rest/token\"\n",
    "\n",
    "payload = json.dumps({\n",
    "  \"login\": \"dhuser01\",\n",
    "  \"password\": \"dhuser01\"\n",
    "})\n",
    "headers = {\n",
    "  'Content-Type': 'application/json'\n",
    "}\n",
    "\n",
    "response = requests.request(\"POST\", url, headers=headers, data=payload)\n",
    "\n",
    "accessToken = json.loads(response.text)['accessToken']\n"
   ]
  },
  {
   "cell_type": "code",
   "execution_count": 68,
   "metadata": {},
   "outputs": [
    {
     "data": {
      "text/plain": [
       "[{'id': 2, 'name': 'CP2', 'description': 'string'},\n",
       " {'id': 1,\n",
       "  'name': 'Default Icomponent',\n",
       "  'description': 'Default DeviceHive icomponent'},\n",
       " {'id': 3, 'name': 'CP3', 'description': 'string'}]"
      ]
     },
     "execution_count": 68,
     "metadata": {},
     "output_type": "execute_result"
    }
   ],
   "source": [
    "payload = {}\n",
    "\n",
    "headers = {'Authorization': 'Bearer' + accessToken }\n",
    "\n",
    "ListComponents = requests.request(\"GET\", url='http://localhost:80/api/rest/icomponent/', headers=headers, data=payload)\n",
    "ListDevices = requests.request(\"GET\", url='http://localhost/api/rest/device', headers=headers, data=payload)\n",
    "CurrentUser = requests.request(\"GET\", url='http://localhost:80/api/rest/user/current', headers=headers, data=payload)\n",
    "ListDeviceTypes = requests.request(\"GET\", url='http://localhost:80/api/rest/devicetype', headers=headers, data=payload)\n",
    "json.loads(ListComponents.text)"
   ]
  },
  {
   "cell_type": "code",
   "execution_count": 69,
   "metadata": {},
   "outputs": [
    {
     "data": {
      "text/plain": [
       "[{'id': 'dHsgbYbjyoWOyy9LUbpEtnxss4AHw0YH2DtG',\n",
       "  'name': 'DEV3',\n",
       "  'data': None,\n",
       "  'networkId': 2,\n",
       "  'deviceTypeId': 2,\n",
       "  'icomponentId': 1,\n",
       "  'isBlocked': False}]"
      ]
     },
     "execution_count": 69,
     "metadata": {},
     "output_type": "execute_result"
    }
   ],
   "source": [
    "json.loads(ListDevices.text)"
   ]
  },
  {
   "cell_type": "code",
   "execution_count": 70,
   "metadata": {},
   "outputs": [
    {
     "data": {
      "text/plain": [
       "{'networks': [{'id': 2, 'name': 'NET2', 'description': None}],\n",
       " 'id': 4,\n",
       " 'login': 'dhuser01',\n",
       " 'role': 1,\n",
       " 'status': 0,\n",
       " 'lastLogin': '2023-10-22T23:48:28.733',\n",
       " 'data': None,\n",
       " 'introReviewed': False,\n",
       " 'allDeviceTypesAvailable': True,\n",
       " 'allIcomponentsAvailable': True}"
      ]
     },
     "execution_count": 70,
     "metadata": {},
     "output_type": "execute_result"
    }
   ],
   "source": [
    "json.loads(CurrentUser.text)"
   ]
  },
  {
   "cell_type": "code",
   "execution_count": 71,
   "metadata": {},
   "outputs": [
    {
     "data": {
      "text/plain": [
       "[{'id': 3,\n",
       "  'name': 'Lightning',\n",
       "  'description': 'Devices to turn smart lights on and off, change the brightness, specify colors'},\n",
       " {'id': 4,\n",
       "  'name': 'Door Locks',\n",
       "  'description': 'Check the state of your door locks and manipulate if needed'},\n",
       " {'id': 5,\n",
       "  'name': 'Thermostats',\n",
       "  'description': 'Devices to control thermostat settings and to report current temperatures'},\n",
       " {'id': 6,\n",
       "  'name': 'Entertainment',\n",
       "  'description': 'Control of your smart TVs, receivers, and other entertainment devices'},\n",
       " {'id': 7,\n",
       "  'name': 'Cars',\n",
       "  'description': 'Devices to develop your own smart cars'},\n",
       " {'id': 8,\n",
       "  'name': 'Cooking',\n",
       "  'description': 'Cooking devices for hands-free control in your kitchen'},\n",
       " {'id': 2,\n",
       "  'name': 'Cameras',\n",
       "  'description': 'Enable your smart home cameras to enable real time streaming'},\n",
       " {'id': 1,\n",
       "  'name': 'Default Device Type',\n",
       "  'description': 'Default DeviceHive device type'}]"
      ]
     },
     "execution_count": 71,
     "metadata": {},
     "output_type": "execute_result"
    }
   ],
   "source": [
    "json.loads(ListDeviceTypes.text)"
   ]
  }
 ],
 "metadata": {
  "kernelspec": {
   "display_name": "Python 3",
   "language": "python",
   "name": "python3"
  },
  "language_info": {
   "codemirror_mode": {
    "name": "ipython",
    "version": 3
   },
   "file_extension": ".py",
   "mimetype": "text/x-python",
   "name": "python",
   "nbconvert_exporter": "python",
   "pygments_lexer": "ipython3",
   "version": "3.11.3"
  }
 },
 "nbformat": 4,
 "nbformat_minor": 2
}
