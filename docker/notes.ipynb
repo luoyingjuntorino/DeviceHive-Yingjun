{
 "cells": [
  {
   "cell_type": "code",
   "execution_count": null,
   "metadata": {},
   "outputs": [],
   "source": [
    "'''remove unused images'''\n",
    "docker rmi $(docker images -qf \"dangling=true\")\n",
    "\n",
    "'''run influxdb in docker'''\n",
    "docker run --name influxdb -p 8086:8086 influxdb:2.7.3\n",
    "\n",
    "'''influx super token'''\n",
    "'1FBLMi2_w1l77NqVorSdw1hd-4g7fXh8sgkswMJx54nfyxqOfPmu00DgT1RwvX8cfXE0Zq4UVssZyJW1LZcfIQ=='\n",
    "\n",
    "'''http://localhost:8086/ influxdb influxdb'''\n",
    "\n",
    "'export INFLUXDB_TOKEN=4BK7gvCVD4Tmr-fiq0HUjk4T_2VV190i_9zF4JQy0luZQ-GFXGjlTNoPFa7T275CfJZ8mtQ6GSazw44SzQSStw=='\n",
    "\n",
    "'''if install influxdb and grafana in the docker, set datasource url: http://172.17.0.2:8086\n",
    "docker inspect -f '{{range .NetworkSettings.Networks}}{{.IPAddress}}{{end}}' influxdb'''"
   ]
  }
 ],
 "metadata": {
  "language_info": {
   "name": "python"
  }
 },
 "nbformat": 4,
 "nbformat_minor": 2
}
